{
 "cells": [
  {
   "cell_type": "code",
   "execution_count": 1,
   "metadata": {},
   "outputs": [
    {
     "name": "stderr",
     "output_type": "stream",
     "text": [
      "C:\\Users\\abc\\Anaconda3\\lib\\site-packages\\tensorflow\\python\\framework\\dtypes.py:516: FutureWarning: Passing (type, 1) or '1type' as a synonym of type is deprecated; in a future version of numpy, it will be understood as (type, (1,)) / '(1,)type'.\n",
      "  _np_qint8 = np.dtype([(\"qint8\", np.int8, 1)])\n",
      "C:\\Users\\abc\\Anaconda3\\lib\\site-packages\\tensorflow\\python\\framework\\dtypes.py:517: FutureWarning: Passing (type, 1) or '1type' as a synonym of type is deprecated; in a future version of numpy, it will be understood as (type, (1,)) / '(1,)type'.\n",
      "  _np_quint8 = np.dtype([(\"quint8\", np.uint8, 1)])\n",
      "C:\\Users\\abc\\Anaconda3\\lib\\site-packages\\tensorflow\\python\\framework\\dtypes.py:518: FutureWarning: Passing (type, 1) or '1type' as a synonym of type is deprecated; in a future version of numpy, it will be understood as (type, (1,)) / '(1,)type'.\n",
      "  _np_qint16 = np.dtype([(\"qint16\", np.int16, 1)])\n",
      "C:\\Users\\abc\\Anaconda3\\lib\\site-packages\\tensorflow\\python\\framework\\dtypes.py:519: FutureWarning: Passing (type, 1) or '1type' as a synonym of type is deprecated; in a future version of numpy, it will be understood as (type, (1,)) / '(1,)type'.\n",
      "  _np_quint16 = np.dtype([(\"quint16\", np.uint16, 1)])\n",
      "C:\\Users\\abc\\Anaconda3\\lib\\site-packages\\tensorflow\\python\\framework\\dtypes.py:520: FutureWarning: Passing (type, 1) or '1type' as a synonym of type is deprecated; in a future version of numpy, it will be understood as (type, (1,)) / '(1,)type'.\n",
      "  _np_qint32 = np.dtype([(\"qint32\", np.int32, 1)])\n",
      "C:\\Users\\abc\\Anaconda3\\lib\\site-packages\\tensorflow\\python\\framework\\dtypes.py:525: FutureWarning: Passing (type, 1) or '1type' as a synonym of type is deprecated; in a future version of numpy, it will be understood as (type, (1,)) / '(1,)type'.\n",
      "  np_resource = np.dtype([(\"resource\", np.ubyte, 1)])\n",
      "Using TensorFlow backend.\n"
     ]
    }
   ],
   "source": [
    "import numpy as np\n",
    "import cv2\n",
    "import tensorflow as tf\n",
    "import time\n",
    "import sys\n",
    "import os\n",
    "import shutil\n",
    "import matplotlib.pyplot as plt\n",
    "from tensorflow import keras\n",
    "import keras.backend as K\n",
    "from keras.layers import Lambda,Dense,Flatten,Conv2D,MaxPool2D,Input,Embedding\n",
    "from keras.preprocessing.image import ImageDataGenerator,array_to_img,img_to_array,load_img\n",
    "from keras.utils import np_utils\n",
    "from keras.models import load_model\n",
    "from keras.optimizers import RMSprop,SGD\n",
    "from keras.losses import binary_crossentropy\n",
    "from keras.models import Sequential,Model\n",
    "from imutils import paths\n",
    "from PIL import Image\n",
    "from numpy import asarray,savez_compressed,load,expand_dims\n",
    "from mtcnn.mtcnn import MTCNN\n",
    "from vidgear.gears import VideoGear\n",
    "from os import listdir\n",
    "from os.path import isdir\n",
    "from sklearn.metrics import accuracy_score\n",
    "from sklearn.preprocessing import LabelEncoder,Normalizer\n",
    "from sklearn.svm import SVC\n",
    "from pathlib import Path"
   ]
  },
  {
   "cell_type": "code",
   "execution_count": 2,
   "metadata": {},
   "outputs": [],
   "source": [
    "def show_image(image):\n",
    "    cv2.imshow('image', image)\n",
    "    while(1):\n",
    "        if cv2.waitKey(10)&0xFF==27:\n",
    "            break\n",
    "    cv2.destroyAllWindows()"
   ]
  },
  {
   "cell_type": "code",
   "execution_count": 3,
   "metadata": {},
   "outputs": [],
   "source": [
    "def extract_face(path,image,required_size=(160, 160)):\n",
    "    if path!='':\n",
    "        image=Image.open(path)\n",
    "    #image=image.convert('RGB')\n",
    "    pixels=asarray(image)\n",
    "    detector=MTCNN()\n",
    "    results=detector.detect_faces(pixels)\n",
    "    face_array=[]\n",
    "    for i in range(len(results)): # multiple faces\\n\",\n",
    "        x1,y1,width,height=results[i]['box']\n",
    "        x1,y1=abs(x1),abs(y1)\n",
    "        x2,y2=x1+width,y1+height\n",
    "        face=pixels[y1:y2,x1:x2]\n",
    "        image=Image.fromarray(face)\n",
    "        image=image.resize(required_size)\n",
    "        face_array.append(asarray(image))\n",
    "    return face_array"
   ]
  },
  {
   "cell_type": "code",
   "execution_count": 4,
   "metadata": {},
   "outputs": [],
   "source": [
    "def load_faces(directory):\n",
    "    faces=list()\n",
    "    for filename in listdir(directory):\n",
    "        path=directory+filename\n",
    "        face=extract_face(path,image='')\n",
    "        faces.extend(face)\n",
    "    return faces"
   ]
  },
  {
   "cell_type": "code",
   "execution_count": 5,
   "metadata": {},
   "outputs": [],
   "source": [
    "def load_dataset(directory):\n",
    "    X,y=list(),list()\n",
    "    if directory[-1]!='/':\n",
    "        directory+='/'\n",
    "    for subdir in listdir(directory):\n",
    "        path=directory+subdir+'/'\n",
    "        if not isdir(path):\n",
    "            continue\n",
    "        faces=load_faces(path)\n",
    "        labels=[subdir for _ in range(len(faces))]\n",
    "        X.extend(faces)\n",
    "        y.extend(labels)\n",
    "    return np.asarray(X),np.asarray(y)"
   ]
  },
  {
   "cell_type": "code",
   "execution_count": 6,
   "metadata": {},
   "outputs": [],
   "source": [
    "def get_embedding(model,face_pixels):\n",
    "    face_pixels=face_pixels.astype('float32')\n",
    "    mean,std=face_pixels.mean(),face_pixels.std()\n",
    "    face_pixels=(face_pixels-mean)/std\n",
    "    samples=expand_dims(face_pixels,axis=0)\n",
    "    yhat=model.predict(samples)\n",
    "    return yhat[0]"
   ]
  },
  {
   "cell_type": "code",
   "execution_count": 7,
   "metadata": {},
   "outputs": [],
   "source": [
    "def newDataSet(dataset,model):\n",
    "    newData=list()\n",
    "    for face_pixels in dataset:\n",
    "        embedding=get_embedding(model, face_pixels)\n",
    "        newData.append(embedding)\n",
    "    newData=asarray(newData)\n",
    "    return newData"
   ]
  },
  {
   "cell_type": "code",
   "execution_count": 8,
   "metadata": {},
   "outputs": [],
   "source": [
    "def generate_train_images(folder_from,folder_to):\n",
    "    for filename in listdir(folder_from):\n",
    "        path=os.path.join(folder_from,filename)\n",
    "        datagen=ImageDataGenerator(rotation_range=30,width_shift_range=0.2,height_shift_range=0.2,shear_range=0.2,\n",
    "                                   zoom_range=0.2,horizontal_flip=True)\n",
    "        image=cv2.imread(path)\n",
    "        x=img_to_array(image)/255.\n",
    "        x=x.reshape((1,)+x.shape)\n",
    "        count=1\n",
    "        file=filename.split('.')\n",
    "        folder_in=os.path.join(folder_to,file[0])\n",
    "        try:\n",
    "            if os.path.exists(folder_in): # creating seperate folders for training images\n",
    "                os.remove(folder_in)\n",
    "            os.makedirs(folder_in)\n",
    "        except OSError:\n",
    "            pass\n",
    "        for batch in datagen.flow(x,batch_size=1):\n",
    "            image_name=file[0]+str(count)+\".\"+file[1]\n",
    "            cv2.imwrite(folder_in+'/'+image_name,image)\n",
    "            if count==20:\n",
    "                break\n",
    "            count+=1"
   ]
  },
  {
   "cell_type": "code",
   "execution_count": 9,
   "metadata": {},
   "outputs": [],
   "source": [
    "def contrastive_loss(y_true,y_pred):\n",
    "    return K.mean((y_true*K.square(y_pred))+((1-y_true)*K.square(K.maximum(1-y_pred,0))))"
   ]
  },
  {
   "cell_type": "code",
   "execution_count": 10,
   "metadata": {},
   "outputs": [
    {
     "name": "stdout",
     "output_type": "stream",
     "text": [
      "WARNING:tensorflow:From C:\\Users\\abc\\Anaconda3\\lib\\site-packages\\keras\\backend\\tensorflow_backend.py:541: The name tf.placeholder is deprecated. Please use tf.compat.v1.placeholder instead.\n",
      "\n",
      "WARNING:tensorflow:From C:\\Users\\abc\\Anaconda3\\lib\\site-packages\\keras\\backend\\tensorflow_backend.py:4432: The name tf.random_uniform is deprecated. Please use tf.random.uniform instead.\n",
      "\n",
      "WARNING:tensorflow:From C:\\Users\\abc\\Anaconda3\\lib\\site-packages\\keras\\backend\\tensorflow_backend.py:66: The name tf.get_default_graph is deprecated. Please use tf.compat.v1.get_default_graph instead.\n",
      "\n",
      "WARNING:tensorflow:From C:\\Users\\abc\\Anaconda3\\lib\\site-packages\\keras\\backend\\tensorflow_backend.py:190: The name tf.get_default_session is deprecated. Please use tf.compat.v1.get_default_session instead.\n",
      "\n",
      "WARNING:tensorflow:From C:\\Users\\abc\\Anaconda3\\lib\\site-packages\\keras\\backend\\tensorflow_backend.py:197: The name tf.ConfigProto is deprecated. Please use tf.compat.v1.ConfigProto instead.\n",
      "\n",
      "WARNING:tensorflow:From C:\\Users\\abc\\Anaconda3\\lib\\site-packages\\keras\\backend\\tensorflow_backend.py:2041: The name tf.nn.fused_batch_norm is deprecated. Please use tf.compat.v1.nn.fused_batch_norm instead.\n",
      "\n",
      "WARNING:tensorflow:From C:\\Users\\abc\\Anaconda3\\lib\\site-packages\\keras\\backend\\tensorflow_backend.py:4267: The name tf.nn.max_pool is deprecated. Please use tf.nn.max_pool2d instead.\n",
      "\n",
      "WARNING:tensorflow:From C:\\Users\\abc\\Anaconda3\\lib\\site-packages\\keras\\backend\\tensorflow_backend.py:3733: calling dropout (from tensorflow.python.ops.nn_ops) with keep_prob is deprecated and will be removed in a future version.\n",
      "Instructions for updating:\n",
      "Please use `rate` instead of `keep_prob`. Rate should be set to `rate = 1 - keep_prob`.\n"
     ]
    },
    {
     "name": "stderr",
     "output_type": "stream",
     "text": [
      "C:\\Users\\abc\\Anaconda3\\lib\\site-packages\\keras\\engine\\saving.py:310: UserWarning: No training configuration found in save file: the model was *not* compiled. Compile it manually.\n",
      "  warnings.warn('No training configuration found in save file: '\n"
     ]
    }
   ],
   "source": [
    "facenet_model=load_model('C:/Users/abc/Desktop/Face recognition/FaceNet/model/facenet_keras.h5')"
   ]
  },
  {
   "cell_type": "code",
   "execution_count": 11,
   "metadata": {},
   "outputs": [],
   "source": [
    "def siameseModel(required_size):\n",
    "    left=Input(required_size)\n",
    "    right=Input(required_size)\n",
    "    l1_distance_layer=Lambda(lambda tensors:K.abs(tensors[0]-tensors[1]))\n",
    "    l1_distance=l1_distance_layer([left,right])\n",
    "    prediction=Dense(units=1,activation='sigmoid')(l1_distance)\n",
    "    model=Model(inputs=[left,right],outputs=prediction)\n",
    "    return model"
   ]
  },
  {
   "cell_type": "code",
   "execution_count": 12,
   "metadata": {},
   "outputs": [],
   "source": [
    "curr_dir='/'.join(os.getcwd().split('\\\\'))\n",
    "trainImagePath=curr_dir+\"/train_images\"\n",
    "testImagePath=curr_dir+\"/test_images\"\n",
    "mainVideoPath='C:/Users/abc/Pictures/Camera Roll/'\n",
    "videoPath=mainVideoPath+'WIN_20190926_17_34_42_Pro.mp4'\n",
    "inputImagePath=curr_dir+'/image'\n",
    "facenet_path=curr_dir+'/facenet'\n",
    "facenet_model_path=facenet_path+'/model'\n",
    "facenet_weights_path=facenet_path+'/weights'\n",
    "framerate=1"
   ]
  },
  {
   "cell_type": "code",
   "execution_count": 13,
   "metadata": {},
   "outputs": [],
   "source": [
    "generate_train_images(inputImagePath,trainImagePath)"
   ]
  },
  {
   "cell_type": "code",
   "execution_count": 14,
   "metadata": {},
   "outputs": [
    {
     "name": "stdout",
     "output_type": "stream",
     "text": [
      "WARNING:tensorflow:From C:\\Users\\abc\\Anaconda3\\lib\\site-packages\\tensorflow\\python\\ops\\init_ops.py:1251: calling VarianceScaling.__init__ (from tensorflow.python.ops.init_ops) with dtype is deprecated and will be removed in a future version.\n",
      "Instructions for updating:\n",
      "Call initializer instance with the dtype argument instead of passing it to the constructor\n",
      "WARNING:tensorflow:From C:\\Users\\abc\\Anaconda3\\lib\\site-packages\\mtcnn\\layer_factory.py:221: div (from tensorflow.python.ops.math_ops) is deprecated and will be removed in a future version.\n",
      "Instructions for updating:\n",
      "Deprecated in favor of operator or tf.math.divide.\n",
      "WARNING:tensorflow:From C:\\Users\\abc\\Anaconda3\\lib\\site-packages\\mtcnn\\layer_factory.py:196: The name tf.nn.xw_plus_b is deprecated. Please use tf.compat.v1.nn.xw_plus_b instead.\n",
      "\n"
     ]
    }
   ],
   "source": [
    "x_single,y_single=list(),list()\n",
    "directory=inputImagePath+'/'\n",
    "for filename in listdir(directory):\n",
    "    path=directory+filename\n",
    "    face=extract_face(path,image='')\n",
    "    y_single.append(filename)\n",
    "    x_single.append(face[0])"
   ]
  },
  {
   "cell_type": "code",
   "execution_count": 15,
   "metadata": {},
   "outputs": [],
   "source": [
    "x,y=load_dataset(trainImagePath)\n",
    "x_single_embedding=newDataSet(x_single,facenet_model)\n",
    "x_embedding=newDataSet(x,facenet_model)"
   ]
  },
  {
   "cell_type": "code",
   "execution_count": 16,
   "metadata": {},
   "outputs": [],
   "source": [
    "x_train1,x_train2,y_train=[],[],[]\n",
    "h=0\n",
    "for i in range(0,len(x)-1):\n",
    "    for j in range(i+1,len(x)):\n",
    "        x_train1.append(x_embedding[i])\n",
    "        x_train2.append(x_embedding[j])\n",
    "        if y[i]==y[j]:\n",
    "            y_train.append(1)\n",
    "        else:\n",
    "            y_train.append(0)"
   ]
  },
  {
   "cell_type": "code",
   "execution_count": 17,
   "metadata": {},
   "outputs": [],
   "source": [
    "x_train=[x_train1,x_train2]"
   ]
  },
  {
   "cell_type": "code",
   "execution_count": 18,
   "metadata": {},
   "outputs": [],
   "source": [
    "savez_compressed(curr_dir+'/face_dataset.npz',x_train,y_train)"
   ]
  },
  {
   "cell_type": "code",
   "execution_count": 19,
   "metadata": {},
   "outputs": [],
   "source": [
    "data=load(curr_dir+'/face_dataset.npz')\n",
    "trainX,trainy=data['arr_0'],data['arr_1']"
   ]
  },
  {
   "cell_type": "code",
   "execution_count": 20,
   "metadata": {},
   "outputs": [],
   "source": [
    "trainX=list(trainX)"
   ]
  },
  {
   "cell_type": "code",
   "execution_count": 21,
   "metadata": {},
   "outputs": [],
   "source": [
    "in_encoder=Normalizer(norm='l2')\n",
    "# trainX=in_encoder.transform(trainX)\n",
    "# testX=in_encoder.transform(testX)"
   ]
  },
  {
   "cell_type": "code",
   "execution_count": 22,
   "metadata": {},
   "outputs": [],
   "source": [
    "out_encoder=LabelEncoder()\n",
    "out_encoder.fit(trainy)\n",
    "trainy=out_encoder.transform(trainy)\n",
    "# testy=out_encoder.transform(testy)"
   ]
  },
  {
   "cell_type": "code",
   "execution_count": 23,
   "metadata": {},
   "outputs": [
    {
     "name": "stdout",
     "output_type": "stream",
     "text": [
      "WARNING:tensorflow:From C:\\Users\\abc\\Anaconda3\\lib\\site-packages\\keras\\optimizers.py:793: The name tf.train.Optimizer is deprecated. Please use tf.compat.v1.train.Optimizer instead.\n",
      "\n",
      "WARNING:tensorflow:From C:\\Users\\abc\\Anaconda3\\lib\\site-packages\\tensorflow\\python\\ops\\nn_impl.py:180: add_dispatch_support.<locals>.wrapper (from tensorflow.python.ops.array_ops) is deprecated and will be removed in a future version.\n",
      "Instructions for updating:\n",
      "Use tf.where in 2.0, which has the same broadcast rule as np.where\n"
     ]
    }
   ],
   "source": [
    "model=siameseModel((128,))\n",
    "model.compile(loss='binary_crossentropy',optimizer='RMSProp',metrics=['acc'])"
   ]
  },
  {
   "cell_type": "code",
   "execution_count": 24,
   "metadata": {},
   "outputs": [
    {
     "name": "stdout",
     "output_type": "stream",
     "text": [
      "Model: \"model_1\"\n",
      "__________________________________________________________________________________________________\n",
      "Layer (type)                    Output Shape         Param #     Connected to                     \n",
      "==================================================================================================\n",
      "input_1 (InputLayer)            (None, 128)          0                                            \n",
      "__________________________________________________________________________________________________\n",
      "input_2 (InputLayer)            (None, 128)          0                                            \n",
      "__________________________________________________________________________________________________\n",
      "lambda_1 (Lambda)               (None, 128)          0           input_1[0][0]                    \n",
      "                                                                 input_2[0][0]                    \n",
      "__________________________________________________________________________________________________\n",
      "dense_1 (Dense)                 (None, 1)            129         lambda_1[0][0]                   \n",
      "==================================================================================================\n",
      "Total params: 129\n",
      "Trainable params: 129\n",
      "Non-trainable params: 0\n",
      "__________________________________________________________________________________________________\n"
     ]
    }
   ],
   "source": [
    "model.summary()"
   ]
  },
  {
   "cell_type": "code",
   "execution_count": 25,
   "metadata": {},
   "outputs": [
    {
     "name": "stdout",
     "output_type": "stream",
     "text": [
      "Epoch 1/10\n",
      "3160/3160 [==============================] - 1s 299us/step - loss: 0.1923 - acc: 0.9563\n",
      "Epoch 2/10\n",
      "3160/3160 [==============================] - 0s 27us/step - loss: 0.1521 - acc: 1.0000\n",
      "Epoch 3/10\n",
      "3160/3160 [==============================] - 0s 28us/step - loss: 0.1414 - acc: 1.0000\n",
      "Epoch 4/10\n",
      "3160/3160 [==============================] - 0s 27us/step - loss: 0.1316 - acc: 1.0000\n",
      "Epoch 5/10\n",
      "3160/3160 [==============================] - 0s 27us/step - loss: 0.1222 - acc: 1.0000\n",
      "Epoch 6/10\n",
      "3160/3160 [==============================] - 0s 27us/step - loss: 0.1135 - acc: 1.0000\n",
      "Epoch 7/10\n",
      "3160/3160 [==============================] - 0s 28us/step - loss: 0.1054 - acc: 1.0000\n",
      "Epoch 8/10\n",
      "3160/3160 [==============================] - 0s 28us/step - loss: 0.0976 - acc: 1.0000\n",
      "Epoch 9/10\n",
      "3160/3160 [==============================] - 0s 28us/step - loss: 0.0902 - acc: 1.0000\n",
      "Epoch 10/10\n",
      "3160/3160 [==============================] - 0s 28us/step - loss: 0.0835 - acc: 1.0000\n"
     ]
    },
    {
     "data": {
      "text/plain": [
       "<keras.callbacks.History at 0x1f833691e48>"
      ]
     },
     "execution_count": 25,
     "metadata": {},
     "output_type": "execute_result"
    }
   ],
   "source": [
    "model.fit(trainX,trainy,epochs=10,verbose=1)"
   ]
  },
  {
   "cell_type": "code",
   "execution_count": 26,
   "metadata": {},
   "outputs": [],
   "source": [
    "yhat_train=model.predict(trainX)\n",
    "yhat_train=list(yhat_train)"
   ]
  },
  {
   "cell_type": "code",
   "execution_count": 27,
   "metadata": {},
   "outputs": [],
   "source": [
    "def getFrame(videoObject,sec,count,imagePath):\n",
    "    videoObject.set(cv2.CAP_PROP_POS_MSEC,sec*1000)\n",
    "    hasFrames,image=videoObject.read()\n",
    "    return hasFrames,image"
   ]
  },
  {
   "cell_type": "code",
   "execution_count": 64,
   "metadata": {},
   "outputs": [],
   "source": [
    "def captureFrame(videoPath,framerate,imagePath,model,x_single_embedding):\n",
    "    videoObject=cv2.VideoCapture(videoPath)\n",
    "    sec=0.5\n",
    "    count=1\n",
    "    success,image=getFrame(videoObject=videoObject,sec=sec,count=count,imagePath=imagePath)\n",
    "    while success==1:\n",
    "        face_array=extract_face('',image)\n",
    "        for faces in face_array:\n",
    "            right=get_embedding(facenet_model,faces)\n",
    "            for left in x_single_embedding:\n",
    "                x_tr=[[left],[right]]\n",
    "                out=model.predict(x=x_tr)\n",
    "                print(out)\n",
    "                if out>=0.5:\n",
    "                    print(\"Found at\",sec)\n",
    "        sec+=framerate\n",
    "        sec=round(sec,2)\n",
    "        count+=1\n",
    "        success,image=getFrame(videoObject=videoObject,sec=sec,count=count,imagePath=imagePath)\n",
    "    videoObject.release()"
   ]
  },
  {
   "cell_type": "code",
   "execution_count": 65,
   "metadata": {},
   "outputs": [
    {
     "name": "stdout",
     "output_type": "stream",
     "text": [
      "[[0.]]\n",
      "[[0.]]\n",
      "[[0.]]\n",
      "[[0.00040037]]\n",
      "[[0.]]\n",
      "[[0.]]\n",
      "[[0.]]\n",
      "[[0.00163693]]\n",
      "[[0.]]\n",
      "[[0.]]\n",
      "[[0.]]\n",
      "[[7.8460784e-05]]\n",
      "[[0.]]\n",
      "[[0.]]\n",
      "[[0.]]\n",
      "[[2.24927e-05]]\n",
      "[[0.]]\n",
      "[[0.]]\n",
      "[[0.]]\n",
      "[[9.2287795e-05]]\n",
      "[[0.]]\n",
      "[[0.]]\n",
      "[[0.]]\n",
      "[[4.498604e-05]]\n",
      "[[0.]]\n",
      "[[0.]]\n",
      "[[0.]]\n",
      "[[8.082408e-05]]\n",
      "[[0.]]\n",
      "[[0.]]\n",
      "[[0.]]\n",
      "[[0.00032784]]\n",
      "[[0.]]\n",
      "[[2.9824264e-07]]\n",
      "[[0.]]\n",
      "[[0.]]\n",
      "[[2.861003e-07]]\n",
      "[[3.5420777e-05]]\n",
      "[[1.6620646e-07]]\n",
      "[[0.]]\n",
      "[[4.2577702e-07]]\n",
      "[[1.4935746e-05]]\n",
      "[[1.5633022e-07]]\n",
      "[[0.]]\n",
      "[[0.]]\n",
      "[[2.920805e-07]]\n",
      "[[0.]]\n",
      "[[0.]]\n",
      "[[6.9441404e-07]]\n",
      "[[0.]]\n",
      "[[0.]]\n",
      "[[1.5421207e-08]]\n",
      "[[0.]]\n",
      "[[0.]]\n",
      "[[0.]]\n",
      "[[4.3699434e-05]]\n",
      "[[0.0001038]]\n",
      "[[3.3522593e-08]]\n",
      "[[0.]]\n",
      "[[0.]]\n",
      "[[0.0002471]]\n",
      "[[6.300622e-08]]\n",
      "[[0.]]\n",
      "[[0.]]\n"
     ]
    }
   ],
   "source": [
    "captureFrame(videoPath=videoPath,framerate=1,imagePath='',model=model,x_single_embedding=x_single_embedding)"
   ]
  },
  {
   "cell_type": "code",
   "execution_count": null,
   "metadata": {},
   "outputs": [],
   "source": [
    "# results=model.predict_proba(testX)\n",
    "# yhat_test=model.predict(testX)\n",
    "score_train=accuracy_score(trainy,yhat_train)\n",
    "print('Accuracy: train=%.3f'%score_train*100)\n",
    "# score_test=accuracy_score(testy,yhat_test)\n",
    "# print('Accuracy: train=%.3f, test=%.3f'%(score_train*100,score_test*100))\n",
    "print('Accuracy: train=%.3f'%score_train*100)\n",
    "# yhat_test=out_encoder.inverse_transform(yhat_test)\n",
    "# yhat_test\n",
    "# results"
   ]
  }
 ],
 "metadata": {
  "kernelspec": {
   "display_name": "Python 3",
   "language": "python",
   "name": "python3"
  },
  "language_info": {
   "codemirror_mode": {
    "name": "ipython",
    "version": 3
   },
   "file_extension": ".py",
   "mimetype": "text/x-python",
   "name": "python",
   "nbconvert_exporter": "python",
   "pygments_lexer": "ipython3",
   "version": "3.7.3"
  }
 },
 "nbformat": 4,
 "nbformat_minor": 2
}
